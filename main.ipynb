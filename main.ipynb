{
 "cells": [
  {
   "cell_type": "code",
   "execution_count": 21,
   "id": "e99ae4f3",
   "metadata": {},
   "outputs": [],
   "source": [
    "import warnings\n",
    "\n",
    "import numpy as np\n",
    "import matplotlib.pyplot as plt\n",
    "\n",
    "from filtering_gam import Model, Optimizer"
   ]
  },
  {
   "cell_type": "code",
   "execution_count": 22,
   "id": "cef3dd54",
   "metadata": {},
   "outputs": [],
   "source": [
    "warnings.simplefilter('ignore')"
   ]
  },
  {
   "cell_type": "code",
   "execution_count": 23,
   "id": "d92bd219",
   "metadata": {},
   "outputs": [],
   "source": [
    "SEED = 42"
   ]
  },
  {
   "cell_type": "code",
   "execution_count": 24,
   "id": "7ae78e26",
   "metadata": {},
   "outputs": [],
   "source": [
    "def synthetic_signals_clf(n, seed=None):\n",
    "    \n",
    "    rng = np.random.default_rng(seed)\n",
    "    \n",
    "    X, y = [], []\n",
    "    for _ in range(n):\n",
    "\n",
    "        # indices\n",
    "        idx0 = rng.integers(low=20, high=40)\n",
    "        idx1 = idx0 + rng.integers(low=20, high=40)\n",
    "\n",
    "        # shape, scale, severity\n",
    "        shape = rng.integers(low=100, high=105)\n",
    "        scale = rng.normal()**2\n",
    "        severity = rng.uniform(low=0.01, high=0.5)\n",
    "\n",
    "        # data\n",
    "        data = rng.normal(size=shape) + 100\n",
    "        data *= scale\n",
    "        data[idx0:idx1] *= severity\n",
    "\n",
    "        # labels\n",
    "        labels = np.zeros(shape)\n",
    "        labels[[idx0,idx1]] = 1.\n",
    "\n",
    "        X.append(data)\n",
    "        y.append(labels)\n",
    "        \n",
    "    return X, y\n"
   ]
  },
  {
   "cell_type": "code",
   "execution_count": 25,
   "id": "d7f4e257",
   "metadata": {},
   "outputs": [],
   "source": [
    "def synthetic_signals_reg(n, seed=None):\n",
    "    \n",
    "    rng = np.random.default_rng(seed)\n",
    "    \n",
    "    X, y = [], []\n",
    "    for _ in range(n):\n",
    "\n",
    "        # shape, scale, severity\n",
    "        shape = rng.integers(low=90, high=110)\n",
    "        scale = rng.normal()**2\n",
    "\n",
    "        # data\n",
    "        data = rng.normal(size=shape).cumsum()\n",
    "        data -= data.min()\n",
    "        data += scale\n",
    " \n",
    "        X.append(data[:-1])\n",
    "        y.append(data[1:])\n",
    "        \n",
    "    return X, y\n"
   ]
  },
  {
   "cell_type": "code",
   "execution_count": 26,
   "id": "ccbba67e",
   "metadata": {},
   "outputs": [],
   "source": [
    "def transform_reg_results(y_true, y_pred):\n",
    "    \n",
    "    y_pred = (y_pred-y_pred.mean()) / y_pred.std()\n",
    "    y_pred = (y_pred*y_true.std()) + y_true.mean()\n",
    "    \n",
    "    return y_pred\n"
   ]
  },
  {
   "cell_type": "markdown",
   "id": "d99c6a01",
   "metadata": {},
   "source": [
    "---"
   ]
  },
  {
   "cell_type": "markdown",
   "id": "454071ce",
   "metadata": {},
   "source": [
    "$ \\text{Pr}(y_i=1 | y) = \\sigma\\left( s_m(y)_i F^T \\beta + \\alpha \\right) $  \n",
    "_where_: <br>\n",
    "&ensp; $y$ is a 1-dimmensional signal  \n",
    "&ensp; $\\sigma$ is the sigmoid function  \n",
    "&ensp; $s_m$ is the segmentation function, subsequence lengths ($m$) equal filter lengths  \n",
    "&ensp; $F$ is a matrix of filters, each row is an individual filter  \n",
    "&ensp; $\\beta$ is a vector of weight terms, number of terms equal number of filters $m$   \n",
    "&ensp; $\\alpha$ is the bias term  "
   ]
  },
  {
   "cell_type": "markdown",
   "id": "43c8f957",
   "metadata": {},
   "source": [
    "$ s_3(y) = \\begin{bmatrix} y_1 & y_2 & y_3 \\\\ y_2 & y_3 & y_4 \\\\ y_3 & y_4 & y_5 \\\\ ... & ... & ... \\\\ y_{n-2} & y_{n-1} & y_n \\end{bmatrix} $ $ F = \\begin{bmatrix} 1 & 0 & -1 \\\\ 1 & -1 & 1 \\end{bmatrix} $  \n",
    "\n",
    "Filter 1: $ (1, 0, -1) $  \n",
    "Filter 2: $ (1, -1, 1) $  "
   ]
  },
  {
   "cell_type": "markdown",
   "id": "95f560c7",
   "metadata": {},
   "source": [
    "---"
   ]
  },
  {
   "cell_type": "code",
   "execution_count": 41,
   "id": "a01bdf5b",
   "metadata": {},
   "outputs": [],
   "source": [
    "X_train, y_train = synthetic_signals_clf(20, SEED)"
   ]
  },
  {
   "cell_type": "code",
   "execution_count": 42,
   "id": "d5d63e7b",
   "metadata": {},
   "outputs": [],
   "source": [
    "\"\"\"\n",
    "weights0 = np.array([-2., 0.05, 0.05])\n",
    "filters0 = np.vstack([\n",
    "    np.linspace(1,-1,9),\n",
    "    np.linspace(-1,1,9),\n",
    "])\n",
    "model = Model(weights=weights0, filters=filters0)\n",
    "\"\"\";"
   ]
  },
  {
   "cell_type": "code",
   "execution_count": 49,
   "id": "4a0a9090",
   "metadata": {},
   "outputs": [],
   "source": [
    "model = Model(\n",
    "    filters=(5,5), # 5 filters, each length of 5\n",
    "    weights=-1, \n",
    "    av=True, \n",
    "    pr=True, \n",
    "    bn=False, \n",
    "    seed=SEED,\n",
    ")"
   ]
  },
  {
   "cell_type": "code",
   "execution_count": 50,
   "id": "aec30b7b",
   "metadata": {},
   "outputs": [],
   "source": [
    "optimizer = Optimizer(\n",
    "    model=model, \n",
    "    weight=True, \n",
    "    loss='entropy', \n",
    "    penalty=None, \n",
    "    epochs=50,\n",
    "    gamma=0., \n",
    "    alpha=0.1, \n",
    "    eta0=0.001, \n",
    "    tol=0.001,\n",
    ")"
   ]
  },
  {
   "cell_type": "code",
   "execution_count": 51,
   "id": "3591674d",
   "metadata": {},
   "outputs": [],
   "source": [
    "optimizer.train(X_train, y_train)"
   ]
  },
  {
   "cell_type": "code",
   "execution_count": 52,
   "id": "aba13f05",
   "metadata": {},
   "outputs": [],
   "source": [
    "sample = X_train[10]\n",
    "y_hat = model(sample, fill=np.nan)"
   ]
  },
  {
   "cell_type": "code",
   "execution_count": 53,
   "id": "b90dc0be",
   "metadata": {},
   "outputs": [
    {
     "data": {
      "image/png": "[encoded data removed]",
      "text/plain": [
       "<Figure size 1080x360 with 2 Axes>"
      ]
     },
     "metadata": {
      "needs_background": "light"
     },
     "output_type": "display_data"
    }
   ],
   "source": [
    "fig, axes = plt.subplots(nrows=2, sharex=True, figsize=(15,5))\n",
    "ax1, ax2 = axes\n",
    "ax1.plot(sample)\n",
    "ax2.plot(y_hat)\n",
    "ax2.set_ylim([-0.05, 1.05])\n",
    "plt.show()"
   ]
  },
  {
   "cell_type": "markdown",
   "id": "e9469d11",
   "metadata": {},
   "source": [
    "---"
   ]
  },
  {
   "cell_type": "code",
   "execution_count": 15,
   "id": "00d0c249",
   "metadata": {},
   "outputs": [],
   "source": [
    "X_train, y_train = synthetic_signals_reg(10)"
   ]
  },
  {
   "cell_type": "code",
   "execution_count": 16,
   "id": "4bb1fdce",
   "metadata": {},
   "outputs": [],
   "source": [
    "model = Model(\n",
    "    filters=(5,5), # 5 filters, each length of 5\n",
    "    weights=-1, \n",
    "    av=False, \n",
    "    pr=False, \n",
    "    bn=True, \n",
    "    seed=SEED,\n",
    ")"
   ]
  },
  {
   "cell_type": "code",
   "execution_count": 17,
   "id": "349affad",
   "metadata": {},
   "outputs": [],
   "source": [
    "optimizer = Optimizer(\n",
    "    model=model, \n",
    "    weight=False, \n",
    "    loss='mse', \n",
    "    penalty=None, \n",
    "    epochs=50,\n",
    "    gamma=0., \n",
    "    alpha=0.1, \n",
    "    eta0=0.001, \n",
    "    tol=0.001,\n",
    ")"
   ]
  },
  {
   "cell_type": "code",
   "execution_count": 18,
   "id": "51e415a8",
   "metadata": {},
   "outputs": [],
   "source": [
    "optimizer.train(X_train, y_train)"
   ]
  },
  {
   "cell_type": "code",
   "execution_count": 19,
   "id": "24a11fdc",
   "metadata": {},
   "outputs": [],
   "source": [
    "sample = X_train[0]\n",
    "y_hat = model(sample, fill=None)\n",
    "y_hat = transform_reg_results(sample, y_hat)"
   ]
  },
  {
   "cell_type": "code",
   "execution_count": 20,
   "id": "a074be8f",
   "metadata": {},
   "outputs": [
    {
     "data": {
      "image/png": "[encoded data removed]",
      "text/plain": [
       "<Figure size 1152x288 with 1 Axes>"
      ]
     },
     "metadata": {
      "needs_background": "light"
     },
     "output_type": "display_data"
    }
   ],
   "source": [
    "plt.figure(figsize=(16,4))\n",
    "plt.plot(sample, 'b-')\n",
    "plt.plot(y_hat, 'r--')\n",
    "plt.show()"
   ]
  },
  {
   "cell_type": "markdown",
   "id": "d5ad83a6",
   "metadata": {},
   "source": [
    "---"
   ]
  },
  {
   "cell_type": "code",
   "execution_count": null,
   "id": "816840c2",
   "metadata": {},
   "outputs": [],
   "source": []
  },
  {
   "cell_type": "code",
   "execution_count": null,
   "id": "d5994a58",
   "metadata": {},
   "outputs": [],
   "source": []
  }
 ],
 "metadata": {
  "kernelspec": {
   "display_name": "Python 3 (ipykernel)",
   "language": "python",
   "name": "python3"
  },
  "language_info": {
   "codemirror_mode": {
    "name": "ipython",
    "version": 3
   },
   "file_extension": ".py",
   "mimetype": "text/x-python",
   "name": "python",
   "nbconvert_exporter": "python",
   "pygments_lexer": "ipython3",
   "version": "3.8.7"
  }
 },
 "nbformat": 4,
 "nbformat_minor": 5
}
