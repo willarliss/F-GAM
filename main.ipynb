{
 "cells": [
  {
   "cell_type": "code",
   "execution_count": 1,
   "id": "c98c09f2",
   "metadata": {},
   "outputs": [],
   "source": [
    "import warnings\n",
    "\n",
    "import numpy as np\n",
    "import matplotlib.pyplot as plt\n",
    "\n",
    "from filtering_gam import Model, Optimizer, Filters"
   ]
  },
  {
   "cell_type": "code",
   "execution_count": 2,
   "id": "58a73541",
   "metadata": {},
   "outputs": [],
   "source": [
    "warnings.simplefilter('ignore')"
   ]
  },
  {
   "cell_type": "code",
   "execution_count": 3,
   "id": "97192967",
   "metadata": {},
   "outputs": [],
   "source": [
    "SEED = 42"
   ]
  },
  {
   "cell_type": "code",
   "execution_count": 4,
   "id": "7ae78e26",
   "metadata": {},
   "outputs": [],
   "source": [
    "def synthetic_signals_clf(n, seed=None):\n",
    "    \n",
    "    rng = np.random.default_rng(seed)\n",
    "    \n",
    "    X, y = [], []\n",
    "    for _ in range(n):\n",
    "\n",
    "        # indices\n",
    "        idx0 = rng.integers(low=20, high=40)\n",
    "        idx1 = idx0 + rng.integers(low=20, high=40)\n",
    "\n",
    "        # shape, scale, severity\n",
    "        shape = rng.integers(low=100, high=105)\n",
    "        scale = rng.normal()**2\n",
    "        severity = rng.uniform(low=0.01, high=0.5)\n",
    "\n",
    "        # data\n",
    "        data = rng.normal(size=shape) + 100\n",
    "        data *= scale\n",
    "        data[idx0:idx1] *= severity\n",
    "\n",
    "        # labels\n",
    "        labels = np.zeros(shape)\n",
    "        labels[[idx0,idx1]] = 1.\n",
    "\n",
    "        X.append(data)\n",
    "        y.append(labels)\n",
    "        \n",
    "    return X, y\n"
   ]
  },
  {
   "cell_type": "code",
   "execution_count": 5,
   "id": "23f555e8",
   "metadata": {},
   "outputs": [],
   "source": [
    "def synthetic_signals_reg(n, seed=None):\n",
    "    \n",
    "    rng = np.random.default_rng(seed)\n",
    "    \n",
    "    X, y = [], []\n",
    "    for _ in range(n):\n",
    "\n",
    "        # shape, scale, severity\n",
    "        shape = rng.integers(low=90, high=110)\n",
    "        scale = rng.normal()**2\n",
    "\n",
    "        # data\n",
    "        data = rng.normal(size=shape).cumsum()\n",
    "        data -= data.min()\n",
    "        data += scale\n",
    " \n",
    "        X.append(data[:-1])\n",
    "        y.append(data[1:])\n",
    "        \n",
    "    return X, y\n"
   ]
  },
  {
   "cell_type": "code",
   "execution_count": 6,
   "id": "b99e60e0",
   "metadata": {},
   "outputs": [],
   "source": [
    "def transform_reg_results(y_true, y_pred):\n",
    "    \n",
    "    y_pred = (y_pred-y_pred.mean()) / y_pred.std()\n",
    "    y_pred = (y_pred*y_true.std()) + y_true.mean()\n",
    "    \n",
    "    return y_pred\n"
   ]
  },
  {
   "cell_type": "markdown",
   "id": "034e9ec3",
   "metadata": {},
   "source": [
    "---"
   ]
  },
  {
   "cell_type": "markdown",
   "id": "454071ce",
   "metadata": {},
   "source": [
    "$ \\text{Pr}(y_i=1 | y) = \\sigma\\left( s_m(y)_i F^T \\beta + \\alpha \\right) $  \n",
    "_where_: <br>\n",
    "&ensp; $y$ is a 1-dimmensional signal  \n",
    "&ensp; $\\sigma$ is the sigmoid function  \n",
    "&ensp; $s_m$ is the segmentation function, subsequence lengths ($m$) equal filter lengths  \n",
    "&ensp; $F$ is a matrix of filters, each row is an individual filter  \n",
    "&ensp; $\\beta$ is a vector of weight terms, number of terms equal number of filters $m$   \n",
    "&ensp; $\\alpha$ is the bias term  "
   ]
  },
  {
   "cell_type": "markdown",
   "id": "2c4e7492",
   "metadata": {},
   "source": [
    "$ s_3(y) = \\begin{bmatrix} y_1 & y_2 & y_3 \\\\ y_2 & y_3 & y_4 \\\\ y_3 & y_4 & y_5 \\\\ ... & ... & ... \\\\ y_{n-2} & y_{n-1} & y_n \\end{bmatrix} $ $ F = \\begin{bmatrix} 1 & 0 & -1 \\\\ 1 & -1 & 1 \\end{bmatrix} $  \n",
    "\n",
    "Filter 1: $ (1, 0, -1) $  \n",
    "Filter 2: $ (1, -1, 1) $  "
   ]
  },
  {
   "cell_type": "markdown",
   "id": "ffbfa071",
   "metadata": {},
   "source": [
    "---"
   ]
  },
  {
   "cell_type": "markdown",
   "id": "a9c2b82b",
   "metadata": {},
   "source": [
    "### Changepoints"
   ]
  },
  {
   "cell_type": "code",
   "execution_count": 7,
   "id": "a01bdf5b",
   "metadata": {},
   "outputs": [],
   "source": [
    "X_train, y_train = synthetic_signals_clf(20, SEED)"
   ]
  },
  {
   "cell_type": "code",
   "execution_count": 8,
   "id": "7cbbae56",
   "metadata": {},
   "outputs": [],
   "source": [
    "\"\"\"\n",
    "weights0 = np.array([-2., 0.05, 0.05])\n",
    "filters0 = np.vstack([\n",
    "    np.linspace(1,-1,9),\n",
    "    np.linspace(-1,1,9),\n",
    "])\n",
    "model = Model(weights=weights0, filters=filters0)\n",
    "\"\"\";"
   ]
  },
  {
   "cell_type": "code",
   "execution_count": 9,
   "id": "728e9f2d",
   "metadata": {},
   "outputs": [],
   "source": [
    "\"\"\"\n",
    "filters = Filters(7)\n",
    "model = Model(\n",
    "    filters=filters.multiple([\n",
    "        ('derivative', {'pos': True}),\n",
    "        ('matching', {'pos': True}),\n",
    "        ('tesla', {'pos': True}),\n",
    "    ]),\n",
    "    weights=-1,\n",
    "    av=True,\n",
    "    pr=True,\n",
    "    bn=False,\n",
    ")\n",
    "\"\"\";"
   ]
  },
  {
   "cell_type": "code",
   "execution_count": 10,
   "id": "4a0a9090",
   "metadata": {},
   "outputs": [],
   "source": [
    "model = Model(\n",
    "    filters=(5,5), # 5 filters, each length of 5\n",
    "    weights=-1, \n",
    "    av=True, \n",
    "    pr=True, \n",
    "    bn=False, \n",
    "    pad=None,\n",
    "    seed=SEED,\n",
    ")"
   ]
  },
  {
   "cell_type": "code",
   "execution_count": 11,
   "id": "aec30b7b",
   "metadata": {},
   "outputs": [],
   "source": [
    "optimizer = Optimizer(\n",
    "    model=model, \n",
    "    weight=True, \n",
    "    loss='entropy', \n",
    "    penalty=None, \n",
    "    epochs=50,\n",
    "    gamma=0., \n",
    "    alpha=0.1, \n",
    "    eta0=0.001, \n",
    "    tol=0.001,\n",
    ")"
   ]
  },
  {
   "cell_type": "code",
   "execution_count": 12,
   "id": "3591674d",
   "metadata": {
    "scrolled": true
   },
   "outputs": [],
   "source": [
    "optimizer.train(X_train, y_train)"
   ]
  },
  {
   "cell_type": "code",
   "execution_count": 13,
   "id": "aba13f05",
   "metadata": {},
   "outputs": [],
   "source": [
    "sample = X_train[0]\n",
    "y_hat = model(sample, fill=np.nan)"
   ]
  },
  {
   "cell_type": "code",
   "execution_count": 14,
   "id": "b90dc0be",
   "metadata": {},
   "outputs": [
    {
     "data": {
      "image/png": "[encoded data removed]",
      "text/plain": [
       "<Figure size 1080x360 with 2 Axes>"
      ]
     },
     "metadata": {
      "needs_background": "light"
     },
     "output_type": "display_data"
    }
   ],
   "source": [
    "fig, axes = plt.subplots(nrows=2, sharex=True, figsize=(15,5))\n",
    "ax1, ax2 = axes\n",
    "ax1.plot(sample)\n",
    "ax2.plot(y_hat)\n",
    "ax2.set_ylim([-0.05, 1.05])\n",
    "plt.show()"
   ]
  },
  {
   "cell_type": "markdown",
   "id": "3640079e",
   "metadata": {},
   "source": [
    "---"
   ]
  },
  {
   "cell_type": "markdown",
   "id": "71b7f9a8",
   "metadata": {},
   "source": [
    "### Subsequences"
   ]
  },
  {
   "cell_type": "code",
   "execution_count": null,
   "id": "28e4a28f",
   "metadata": {},
   "outputs": [],
   "source": [
    "import custom_utils as cu\n",
    "\n",
    "rng = np.random.default_rng(SEED)\n",
    "\n",
    "X_train = cu.periodic_signal(100, 7)\n",
    "X_train[40:60] = cu.periodic_signal(20, 3)\n",
    "X_train = X_train*5 + rng.normal(size=100, scale=0.1)\n",
    "\n",
    "y_train = np.zeros(100)\n",
    "y_train[[40,60]] = 1\n",
    "\n",
    "X_train, y_train = [X_train], [y_train]"
   ]
  },
  {
   "cell_type": "code",
   "execution_count": null,
   "id": "01127a8c",
   "metadata": {},
   "outputs": [],
   "source": [
    "model = Model(\n",
    "    filters=(5,7),\n",
    "    weights=-1, \n",
    "    av=True, \n",
    "    pr=True, \n",
    "    bn=False, \n",
    "    seed=SEED,\n",
    ")"
   ]
  },
  {
   "cell_type": "code",
   "execution_count": null,
   "id": "77def2f3",
   "metadata": {},
   "outputs": [],
   "source": [
    "optimizer = Optimizer(\n",
    "    model=model, \n",
    "    weight=True, \n",
    "    loss='entropy', \n",
    "    penalty=None, \n",
    "    epochs=500,\n",
    "    gamma=0.0001, \n",
    "    alpha=0.1, \n",
    "    eta0=0.1, \n",
    "    tol=0.001,\n",
    ")"
   ]
  },
  {
   "cell_type": "code",
   "execution_count": null,
   "id": "12b56ce1",
   "metadata": {},
   "outputs": [],
   "source": [
    "optimizer.train(X_train, y_train)"
   ]
  },
  {
   "cell_type": "code",
   "execution_count": null,
   "id": "63e129e7",
   "metadata": {},
   "outputs": [],
   "source": [
    "sample = X_train[0]\n",
    "y_hat = model(sample, fill=np.nan)"
   ]
  },
  {
   "cell_type": "code",
   "execution_count": null,
   "id": "8ca248d9",
   "metadata": {},
   "outputs": [],
   "source": [
    "fig, axes = plt.subplots(nrows=2, sharex=True, figsize=(15,5))\n",
    "ax1, ax2 = axes\n",
    "ax1.plot(sample)\n",
    "ax2.plot(y_hat)\n",
    "ax2.set_ylim([-0.05, 1.05])\n",
    "plt.show()"
   ]
  },
  {
   "cell_type": "markdown",
   "id": "bfb1a028",
   "metadata": {},
   "source": [
    "---"
   ]
  },
  {
   "cell_type": "markdown",
   "id": "383bfaca",
   "metadata": {},
   "source": [
    "### Spikes"
   ]
  },
  {
   "cell_type": "code",
   "execution_count": null,
   "id": "b486ab0c",
   "metadata": {},
   "outputs": [],
   "source": [
    "rng = np.random.default_rng(SEED)\n",
    "\n",
    "anoms = rng.integers(low=0, high=100, size=3)\n",
    "X_train = rng.normal(size=100, scale=0.5, loc=20)\n",
    "X_train[anoms] *= rng.normal(size=3, scale=0.001, loc=0)\n",
    "\n",
    "y_train = np.zeros(100)\n",
    "y_train[anoms] = 1\n",
    "\n",
    "X_train, y_train = [X_train], [y_train]"
   ]
  },
  {
   "cell_type": "code",
   "execution_count": null,
   "id": "36e7d15f",
   "metadata": {},
   "outputs": [],
   "source": [
    "model = Model(\n",
    "    filters=(7,3),\n",
    "    weights=-1, \n",
    "    av=True, \n",
    "    pr=True, \n",
    "    bn=True, \n",
    "    seed=SEED,\n",
    ")"
   ]
  },
  {
   "cell_type": "code",
   "execution_count": null,
   "id": "b1d907e9",
   "metadata": {},
   "outputs": [],
   "source": [
    "optimizer = Optimizer(\n",
    "    model=model, \n",
    "    weight=True, \n",
    "    loss='entropy', \n",
    "    penalty=None, \n",
    "    epochs=1000,\n",
    "    gamma=0.00002, \n",
    "    alpha=0.1, \n",
    "    eta0=0.15, \n",
    "    tol=0.0001,\n",
    ")"
   ]
  },
  {
   "cell_type": "code",
   "execution_count": null,
   "id": "32384cb8",
   "metadata": {},
   "outputs": [],
   "source": [
    "optimizer.train(X_train, y_train)"
   ]
  },
  {
   "cell_type": "code",
   "execution_count": null,
   "id": "f324da47",
   "metadata": {},
   "outputs": [],
   "source": [
    "sample = X_train[0]\n",
    "y_hat = model(sample, fill=np.nan)"
   ]
  },
  {
   "cell_type": "code",
   "execution_count": null,
   "id": "8f4c7762",
   "metadata": {},
   "outputs": [],
   "source": [
    "fig, axes = plt.subplots(nrows=2, sharex=True, figsize=(15,5))\n",
    "ax1, ax2 = axes\n",
    "ax1.plot(sample)\n",
    "ax2.plot(y_hat)\n",
    "ax2.set_ylim([-0.05, 1.05])\n",
    "plt.show()"
   ]
  },
  {
   "cell_type": "markdown",
   "id": "b71a0606",
   "metadata": {},
   "source": [
    "---"
   ]
  },
  {
   "cell_type": "markdown",
   "id": "a78730e8",
   "metadata": {},
   "source": [
    "### Regression"
   ]
  },
  {
   "cell_type": "code",
   "execution_count": null,
   "id": "c4fa898b",
   "metadata": {},
   "outputs": [],
   "source": [
    "X_train, y_train = synthetic_signals_reg(10)"
   ]
  },
  {
   "cell_type": "code",
   "execution_count": null,
   "id": "32a476a2",
   "metadata": {},
   "outputs": [],
   "source": [
    "model = Model(\n",
    "    filters=(5,5), # 5 filters, each length of 5\n",
    "    weights=-1, \n",
    "    av=False, \n",
    "    pr=False, \n",
    "    bn=True, \n",
    "    seed=SEED,\n",
    ")"
   ]
  },
  {
   "cell_type": "code",
   "execution_count": null,
   "id": "501567b4",
   "metadata": {},
   "outputs": [],
   "source": [
    "optimizer = Optimizer(\n",
    "    model=model, \n",
    "    weight=False, \n",
    "    loss='mse', \n",
    "    penalty=None, \n",
    "    epochs=50,\n",
    "    gamma=0., \n",
    "    alpha=0.1, \n",
    "    eta0=0.001, \n",
    "    tol=0.001,\n",
    ")"
   ]
  },
  {
   "cell_type": "code",
   "execution_count": null,
   "id": "51cf5227",
   "metadata": {},
   "outputs": [],
   "source": [
    "optimizer.train(X_train, y_train)"
   ]
  },
  {
   "cell_type": "code",
   "execution_count": null,
   "id": "1929ca4f",
   "metadata": {},
   "outputs": [],
   "source": [
    "sample = X_train[0]\n",
    "y_hat = model(sample, fill=None)"
   ]
  },
  {
   "cell_type": "code",
   "execution_count": null,
   "id": "0799d84d",
   "metadata": {},
   "outputs": [],
   "source": [
    "plt.figure(figsize=(16,4))\n",
    "plt.plot(sample, 'b-')\n",
    "plt.plot(y_hat, 'r--')\n",
    "plt.show()"
   ]
  },
  {
   "cell_type": "markdown",
   "id": "39fde95f",
   "metadata": {},
   "source": [
    "---"
   ]
  },
  {
   "cell_type": "code",
   "execution_count": null,
   "id": "657a8142",
   "metadata": {},
   "outputs": [],
   "source": [
    "optimizer = Optimizer(\n",
    "    model=model, \n",
    "    epochs=500,\n",
    "    gamma=0.0001, \n",
    "    eta0=0.1, \n",
    ")"
   ]
  },
  {
   "cell_type": "code",
   "execution_count": null,
   "id": "8f9cc6e1",
   "metadata": {},
   "outputs": [],
   "source": [
    "eta = float(optimizer.eta0)\n",
    "epochs = optimizer.epochs\n",
    "trace = []\n",
    "for step in range(epochs):\n",
    "    trace.append(eta)\n",
    "    eta = optimizer.eta_schedule(eta, step)\n",
    "plt.plot(trace)"
   ]
  },
  {
   "cell_type": "code",
   "execution_count": null,
   "id": "cbffbe6b",
   "metadata": {},
   "outputs": [],
   "source": []
  },
  {
   "cell_type": "code",
   "execution_count": null,
   "id": "443a59ae",
   "metadata": {},
   "outputs": [],
   "source": [
    "filters = Filters(11)\n",
    "f = np.array([filters.shift(5)])"
   ]
  },
  {
   "cell_type": "code",
   "execution_count": null,
   "id": "13f3ee4d",
   "metadata": {},
   "outputs": [],
   "source": [
    "model = Model(\n",
    "    filters=f,\n",
    "    weights=np.array([0,-1]),\n",
    "    av=False,\n",
    "    pr=False,\n",
    "    bn=False,\n",
    ")"
   ]
  },
  {
   "cell_type": "code",
   "execution_count": null,
   "id": "445d462e",
   "metadata": {},
   "outputs": [],
   "source": [
    "x = np.random.randn(100)+20\n",
    "x[40:60] *=0.5"
   ]
  },
  {
   "cell_type": "code",
   "execution_count": null,
   "id": "b06f2122",
   "metadata": {},
   "outputs": [],
   "source": [
    "plt.plot(x)"
   ]
  },
  {
   "cell_type": "code",
   "execution_count": null,
   "id": "f3e43a4a",
   "metadata": {},
   "outputs": [],
   "source": [
    "y = model(x)"
   ]
  },
  {
   "cell_type": "code",
   "execution_count": null,
   "id": "3cfea850",
   "metadata": {},
   "outputs": [],
   "source": [
    "plt.plot(y)"
   ]
  },
  {
   "cell_type": "code",
   "execution_count": null,
   "id": "21ef2d29",
   "metadata": {},
   "outputs": [],
   "source": []
  },
  {
   "cell_type": "code",
   "execution_count": null,
   "id": "d49f80c4",
   "metadata": {},
   "outputs": [],
   "source": []
  }
 ],
 "metadata": {
  "kernelspec": {
   "display_name": "Python 3 (ipykernel)",
   "language": "python",
   "name": "python3"
  },
  "language_info": {
   "codemirror_mode": {
    "name": "ipython",
    "version": 3
   },
   "file_extension": ".py",
   "mimetype": "text/x-python",
   "name": "python",
   "nbconvert_exporter": "python",
   "pygments_lexer": "ipython3",
   "version": "3.8.7"
  }
 },
 "nbformat": 4,
 "nbformat_minor": 5
}
