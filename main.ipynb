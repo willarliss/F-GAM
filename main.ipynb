{
 "cells": [
  {
   "cell_type": "code",
   "execution_count": 1,
   "id": "1fe872e7",
   "metadata": {},
   "outputs": [],
   "source": [
    "import warnings\n",
    "\n",
    "import numpy as np\n",
    "import matplotlib.pyplot as plt\n",
    "\n",
    "from filtering_gam import Model, Optimizer, Filters"
   ]
  },
  {
   "cell_type": "code",
   "execution_count": 2,
   "id": "1d527342",
   "metadata": {},
   "outputs": [],
   "source": [
    "warnings.simplefilter('ignore')"
   ]
  },
  {
   "cell_type": "code",
   "execution_count": 3,
   "id": "975836b2",
   "metadata": {},
   "outputs": [],
   "source": [
    "SEED = 42"
   ]
  },
  {
   "cell_type": "code",
   "execution_count": 4,
   "id": "7ae78e26",
   "metadata": {},
   "outputs": [],
   "source": [
    "def synthetic_signals_clf(n, seed=None):\n",
    "    \n",
    "    rng = np.random.default_rng(seed)\n",
    "    \n",
    "    X, y = [], []\n",
    "    for _ in range(n):\n",
    "\n",
    "        # indices\n",
    "        idx0 = rng.integers(low=20, high=40)\n",
    "        idx1 = idx0 + rng.integers(low=20, high=40)\n",
    "\n",
    "        # shape, scale, severity\n",
    "        shape = rng.integers(low=100, high=105)\n",
    "        scale = rng.normal()**2\n",
    "        severity = rng.uniform(low=0.01, high=0.5)\n",
    "\n",
    "        # data\n",
    "        data = rng.normal(size=shape) + 100\n",
    "        data *= scale\n",
    "        data[idx0:idx1] *= severity\n",
    "\n",
    "        # labels\n",
    "        labels = np.zeros(shape)\n",
    "        labels[[idx0,idx1]] = 1.\n",
    "\n",
    "        X.append(data)\n",
    "        y.append(labels)\n",
    "        \n",
    "    return X, y\n"
   ]
  },
  {
   "cell_type": "code",
   "execution_count": 5,
   "id": "da1b64f8",
   "metadata": {},
   "outputs": [],
   "source": [
    "def synthetic_signals_reg(n, seed=None):\n",
    "    \n",
    "    rng = np.random.default_rng(seed)\n",
    "    \n",
    "    X, y = [], []\n",
    "    for _ in range(n):\n",
    "\n",
    "        # shape, scale, severity\n",
    "        shape = rng.integers(low=90, high=110)\n",
    "        scale = rng.normal()**2\n",
    "\n",
    "        # data\n",
    "        data = rng.normal(size=shape).cumsum()\n",
    "        data -= data.min()\n",
    "        data += scale\n",
    " \n",
    "        X.append(data[:-1])\n",
    "        y.append(data[1:])\n",
    "        \n",
    "    return X, y\n"
   ]
  },
  {
   "cell_type": "code",
   "execution_count": 6,
   "id": "768b1f37",
   "metadata": {},
   "outputs": [],
   "source": [
    "def transform_reg_results(y_true, y_pred):\n",
    "    \n",
    "    y_pred = (y_pred-y_pred.mean()) / y_pred.std()\n",
    "    y_pred = (y_pred*y_true.std()) + y_true.mean()\n",
    "    \n",
    "    return y_pred\n"
   ]
  },
  {
   "cell_type": "markdown",
   "id": "aaf29180",
   "metadata": {},
   "source": [
    "---"
   ]
  },
  {
   "cell_type": "markdown",
   "id": "454071ce",
   "metadata": {},
   "source": [
    "$ \\text{Pr}(y_i=1 | y) = \\sigma\\left( s_m(y)_i F^T \\beta + \\alpha \\right) $  \n",
    "_where_: <br>\n",
    "&ensp; $y$ is a 1-dimmensional signal  \n",
    "&ensp; $\\sigma$ is the sigmoid function  \n",
    "&ensp; $s_m$ is the segmentation function, subsequence lengths ($m$) equal filter lengths  \n",
    "&ensp; $F$ is a matrix of filters, each row is an individual filter  \n",
    "&ensp; $\\beta$ is a vector of weight terms, number of terms equal number of filters $m$   \n",
    "&ensp; $\\alpha$ is the bias term  "
   ]
  },
  {
   "cell_type": "markdown",
   "id": "9046d44f",
   "metadata": {},
   "source": [
    "$ s_3(y) = \\begin{bmatrix} y_1 & y_2 & y_3 \\\\ y_2 & y_3 & y_4 \\\\ y_3 & y_4 & y_5 \\\\ ... & ... & ... \\\\ y_{n-2} & y_{n-1} & y_n \\end{bmatrix} $ $ F = \\begin{bmatrix} 1 & 0 & -1 \\\\ 1 & -1 & 1 \\end{bmatrix} $  \n",
    "\n",
    "Filter 1: $ (1, 0, -1) $  \n",
    "Filter 2: $ (1, -1, 1) $  "
   ]
  },
  {
   "cell_type": "markdown",
   "id": "b398fc63",
   "metadata": {},
   "source": [
    "---"
   ]
  },
  {
   "cell_type": "markdown",
   "id": "8a01ffca",
   "metadata": {},
   "source": [
    "### Changepoints"
   ]
  },
  {
   "cell_type": "code",
   "execution_count": 7,
   "id": "a01bdf5b",
   "metadata": {},
   "outputs": [],
   "source": [
    "X_train, y_train = synthetic_signals_clf(20, SEED)"
   ]
  },
  {
   "cell_type": "code",
   "execution_count": 8,
   "id": "5c3bdf0a",
   "metadata": {},
   "outputs": [],
   "source": [
    "\"\"\"\n",
    "weights0 = np.array([-2., 0.05, 0.05])\n",
    "filters0 = np.vstack([\n",
    "    np.linspace(1,-1,9),\n",
    "    np.linspace(-1,1,9),\n",
    "])\n",
    "model = Model(weights=weights0, filters=filters0)\n",
    "\"\"\";"
   ]
  },
  {
   "cell_type": "code",
   "execution_count": 9,
   "id": "a96131b6",
   "metadata": {},
   "outputs": [],
   "source": [
    "\"\"\"\n",
    "filters = Filters(7)\n",
    "model = Model(\n",
    "    filters=filters.multiple([\n",
    "        ('derivative', {'pos': True}),\n",
    "        ('matching', {'pos': True}),\n",
    "        ('tesla', {'pos': True}),\n",
    "    ]),\n",
    "    weights=-1,\n",
    "    av=True,\n",
    "    pr=True,\n",
    "    bn=False,\n",
    ")\n",
    "\"\"\";"
   ]
  },
  {
   "cell_type": "code",
   "execution_count": 10,
   "id": "4a0a9090",
   "metadata": {},
   "outputs": [],
   "source": [
    "model = Model(\n",
    "    filters=(5,7), # 5 filters, each length of 5\n",
    "    weights=-1, \n",
    "    av=True, \n",
    "    pr=True, \n",
    "    bn=False, \n",
    "    seed=SEED,\n",
    ")"
   ]
  },
  {
   "cell_type": "code",
   "execution_count": 11,
   "id": "aec30b7b",
   "metadata": {},
   "outputs": [],
   "source": [
    "optimizer = Optimizer(\n",
    "    model=model, \n",
    "    weight=True, \n",
    "    loss='entropy', \n",
    "    penalty=None, \n",
    "    epochs=50,\n",
    "    gamma=0., \n",
    "    alpha=0.1, \n",
    "    eta0=0.001, \n",
    "    tol=0.001,\n",
    ")"
   ]
  },
  {
   "cell_type": "code",
   "execution_count": 12,
   "id": "3591674d",
   "metadata": {},
   "outputs": [],
   "source": [
    "optimizer.train(X_train, y_train)"
   ]
  },
  {
   "cell_type": "code",
   "execution_count": 13,
   "id": "aba13f05",
   "metadata": {},
   "outputs": [],
   "source": [
    "sample = X_train[0]\n",
    "y_hat = model(sample, fill=np.nan)"
   ]
  },
  {
   "cell_type": "code",
   "execution_count": 14,
   "id": "b90dc0be",
   "metadata": {},
   "outputs": [
    {
     "data": {
      "image/png": "[encoded data removed]",
      "text/plain": [
       "<Figure size 1080x360 with 2 Axes>"
      ]
     },
     "metadata": {
      "needs_background": "light"
     },
     "output_type": "display_data"
    }
   ],
   "source": [
    "fig, axes = plt.subplots(nrows=2, sharex=True, figsize=(15,5))\n",
    "ax1, ax2 = axes\n",
    "ax1.plot(sample)\n",
    "ax2.plot(y_hat)\n",
    "ax2.set_ylim([-0.05, 1.05])\n",
    "plt.show()"
   ]
  },
  {
   "cell_type": "markdown",
   "id": "e1a2dc2a",
   "metadata": {},
   "source": [
    "---"
   ]
  },
  {
   "cell_type": "markdown",
   "id": "6e908ee9",
   "metadata": {},
   "source": [
    "### Subsequences"
   ]
  },
  {
   "cell_type": "code",
   "execution_count": 15,
   "id": "1ab09302",
   "metadata": {},
   "outputs": [],
   "source": [
    "import custom_utils as cu\n",
    "\n",
    "rng = np.random.default_rng(SEED)\n",
    "\n",
    "X_train = cu.periodic_signal(100, 7)\n",
    "X_train[40:60] = cu.periodic_signal(20, 3)\n",
    "X_train = X_train*5 + rng.normal(size=100, scale=0.1)\n",
    "\n",
    "y_train = np.zeros(100)\n",
    "y_train[[40,60]] = 1\n",
    "\n",
    "X_train, y_train = [X_train], [y_train]"
   ]
  },
  {
   "cell_type": "code",
   "execution_count": 124,
   "id": "5305cc87",
   "metadata": {},
   "outputs": [],
   "source": [
    "model = Model(\n",
    "    filters=(5,7),\n",
    "    weights=-1, \n",
    "    av=True, \n",
    "    pr=True, \n",
    "    bn=False, \n",
    "    seed=SEED,\n",
    ")"
   ]
  },
  {
   "cell_type": "code",
   "execution_count": 126,
   "id": "a9d3a376",
   "metadata": {},
   "outputs": [],
   "source": [
    "optimizer = Optimizer(\n",
    "    model=model, \n",
    "    weight=True, \n",
    "    loss='entropy', \n",
    "    penalty=None, \n",
    "    epochs=500,\n",
    "    gamma=0.0001, \n",
    "    alpha=0.1, \n",
    "    eta0=0.1, \n",
    "    tol=0.001,\n",
    ")"
   ]
  },
  {
   "cell_type": "code",
   "execution_count": 127,
   "id": "0a1de6c2",
   "metadata": {},
   "outputs": [],
   "source": [
    "optimizer.train(X_train, y_train)"
   ]
  },
  {
   "cell_type": "code",
   "execution_count": 128,
   "id": "459eb303",
   "metadata": {},
   "outputs": [],
   "source": [
    "sample = X_train[0]\n",
    "y_hat = model(sample, fill=np.nan)"
   ]
  },
  {
   "cell_type": "code",
   "execution_count": 129,
   "id": "deb9615e",
   "metadata": {},
   "outputs": [
    {
     "data": {
      "image/png": "[encoded data removed]",
      "text/plain": [
       "<Figure size 1080x360 with 2 Axes>"
      ]
     },
     "metadata": {
      "needs_background": "light"
     },
     "output_type": "display_data"
    }
   ],
   "source": [
    "fig, axes = plt.subplots(nrows=2, sharex=True, figsize=(15,5))\n",
    "ax1, ax2 = axes\n",
    "ax1.plot(sample)\n",
    "ax2.plot(y_hat)\n",
    "ax2.set_ylim([-0.05, 1.05])\n",
    "plt.show()"
   ]
  },
  {
   "cell_type": "markdown",
   "id": "6df8a267",
   "metadata": {},
   "source": [
    "---"
   ]
  },
  {
   "cell_type": "markdown",
   "id": "ab60dff7",
   "metadata": {},
   "source": [
    "### Spikes"
   ]
  },
  {
   "cell_type": "code",
   "execution_count": null,
   "id": "010bb30f",
   "metadata": {},
   "outputs": [],
   "source": [
    "rng = np.random.default_rng(SEED)\n",
    "\n",
    "anoms = rng.integers(low=0, high=100, size=3)\n",
    "X_train = rng.normal(size=100, scale=0.5, loc=20)\n",
    "X_train[anoms] *= rng.normal(size=3, scale=0.001, loc=0)\n",
    "\n",
    "y_train = np.zeros(100)\n",
    "y_train[anoms] = 1\n",
    "\n",
    "X_train, y_train = [X_train], [y_train]"
   ]
  },
  {
   "cell_type": "code",
   "execution_count": null,
   "id": "27f94b80",
   "metadata": {},
   "outputs": [],
   "source": [
    "model = Model(\n",
    "    filters=(7,3),\n",
    "    weights=-1, \n",
    "    av=True, \n",
    "    pr=True, \n",
    "    bn=True, \n",
    "    seed=SEED,\n",
    ")"
   ]
  },
  {
   "cell_type": "code",
   "execution_count": null,
   "id": "95163307",
   "metadata": {},
   "outputs": [],
   "source": [
    "optimizer = Optimizer(\n",
    "    model=model, \n",
    "    weight=True, \n",
    "    loss='entropy', \n",
    "    penalty=None, \n",
    "    epochs=1000,\n",
    "    gamma=0.00002, \n",
    "    alpha=0.1, \n",
    "    eta0=0.15, \n",
    "    tol=0.0001,\n",
    ")"
   ]
  },
  {
   "cell_type": "code",
   "execution_count": null,
   "id": "f50cca38",
   "metadata": {},
   "outputs": [],
   "source": [
    "optimizer.train(X_train, y_train)"
   ]
  },
  {
   "cell_type": "code",
   "execution_count": null,
   "id": "ca2f2e76",
   "metadata": {},
   "outputs": [],
   "source": [
    "sample = X_train[0]\n",
    "y_hat = model(sample, fill=np.nan)"
   ]
  },
  {
   "cell_type": "code",
   "execution_count": null,
   "id": "1c39de86",
   "metadata": {},
   "outputs": [],
   "source": [
    "fig, axes = plt.subplots(nrows=2, sharex=True, figsize=(15,5))\n",
    "ax1, ax2 = axes\n",
    "ax1.plot(sample)\n",
    "ax2.plot(y_hat)\n",
    "ax2.set_ylim([-0.05, 1.05])\n",
    "plt.show()"
   ]
  },
  {
   "cell_type": "markdown",
   "id": "ba3b9210",
   "metadata": {},
   "source": [
    "---"
   ]
  },
  {
   "cell_type": "markdown",
   "id": "4bed696f",
   "metadata": {},
   "source": [
    "### Regression"
   ]
  },
  {
   "cell_type": "code",
   "execution_count": null,
   "id": "5ecbc455",
   "metadata": {},
   "outputs": [],
   "source": [
    "X_train, y_train = synthetic_signals_reg(10)"
   ]
  },
  {
   "cell_type": "code",
   "execution_count": null,
   "id": "fbcc7fbb",
   "metadata": {},
   "outputs": [],
   "source": [
    "model = Model(\n",
    "    filters=(5,5), # 5 filters, each length of 5\n",
    "    weights=-1, \n",
    "    av=False, \n",
    "    pr=False, \n",
    "    bn=True, \n",
    "    seed=SEED,\n",
    ")"
   ]
  },
  {
   "cell_type": "code",
   "execution_count": null,
   "id": "918497c8",
   "metadata": {},
   "outputs": [],
   "source": [
    "optimizer = Optimizer(\n",
    "    model=model, \n",
    "    weight=False, \n",
    "    loss='mse', \n",
    "    penalty=None, \n",
    "    epochs=50,\n",
    "    gamma=0., \n",
    "    alpha=0.1, \n",
    "    eta0=0.001, \n",
    "    tol=0.001,\n",
    ")"
   ]
  },
  {
   "cell_type": "code",
   "execution_count": null,
   "id": "609ec817",
   "metadata": {},
   "outputs": [],
   "source": [
    "optimizer.train(X_train, y_train)"
   ]
  },
  {
   "cell_type": "code",
   "execution_count": null,
   "id": "c450079d",
   "metadata": {},
   "outputs": [],
   "source": [
    "sample = X_train[0]\n",
    "y_hat = model(sample, fill=None)"
   ]
  },
  {
   "cell_type": "code",
   "execution_count": null,
   "id": "f087fcc1",
   "metadata": {},
   "outputs": [],
   "source": [
    "plt.figure(figsize=(16,4))\n",
    "plt.plot(sample, 'b-')\n",
    "plt.plot(y_hat, 'r--')\n",
    "plt.show()"
   ]
  },
  {
   "cell_type": "markdown",
   "id": "8f600238",
   "metadata": {},
   "source": [
    "---"
   ]
  },
  {
   "cell_type": "code",
   "execution_count": null,
   "id": "df7e78fa",
   "metadata": {},
   "outputs": [],
   "source": [
    "optimizer = Optimizer(\n",
    "    model=model, \n",
    "    epochs=500,\n",
    "    gamma=0.0001, \n",
    "    eta0=0.1, \n",
    ")"
   ]
  },
  {
   "cell_type": "code",
   "execution_count": null,
   "id": "aba91325",
   "metadata": {},
   "outputs": [],
   "source": [
    "eta = float(optimizer.eta0)\n",
    "epochs = optimizer.epochs\n",
    "trace = []\n",
    "for step in range(epochs):\n",
    "    trace.append(eta)\n",
    "    eta = optimizer.eta_schedule(eta, step)\n",
    "plt.plot(trace)"
   ]
  },
  {
   "cell_type": "code",
   "execution_count": null,
   "id": "b5bbe2dc",
   "metadata": {},
   "outputs": [],
   "source": []
  },
  {
   "cell_type": "code",
   "execution_count": null,
   "id": "05abf72b",
   "metadata": {},
   "outputs": [],
   "source": [
    "filters = Filters(11)\n",
    "f = np.array([filters.shift(5)])"
   ]
  },
  {
   "cell_type": "code",
   "execution_count": null,
   "id": "29b084cf",
   "metadata": {},
   "outputs": [],
   "source": [
    "model = Model(\n",
    "    filters=f,\n",
    "    weights=np.array([0,-1]),\n",
    "    av=False,\n",
    "    pr=False,\n",
    "    bn=False,\n",
    ")"
   ]
  },
  {
   "cell_type": "code",
   "execution_count": null,
   "id": "1d3c2ca2",
   "metadata": {},
   "outputs": [],
   "source": [
    "x = np.random.randn(100)+20\n",
    "x[40:60] *=0.5"
   ]
  },
  {
   "cell_type": "code",
   "execution_count": null,
   "id": "65de01c5",
   "metadata": {},
   "outputs": [],
   "source": [
    "plt.plot(x)"
   ]
  },
  {
   "cell_type": "code",
   "execution_count": null,
   "id": "117959bb",
   "metadata": {},
   "outputs": [],
   "source": [
    "y = model(x)"
   ]
  },
  {
   "cell_type": "code",
   "execution_count": null,
   "id": "8d7c14ee",
   "metadata": {},
   "outputs": [],
   "source": [
    "plt.plot(y)"
   ]
  },
  {
   "cell_type": "code",
   "execution_count": null,
   "id": "334fed3d",
   "metadata": {},
   "outputs": [],
   "source": []
  },
  {
   "cell_type": "code",
   "execution_count": null,
   "id": "286ffaff",
   "metadata": {},
   "outputs": [],
   "source": []
  }
 ],
 "metadata": {
  "kernelspec": {
   "display_name": "Python 3 (ipykernel)",
   "language": "python",
   "name": "python3"
  },
  "language_info": {
   "codemirror_mode": {
    "name": "ipython",
    "version": 3
   },
   "file_extension": ".py",
   "mimetype": "text/x-python",
   "name": "python",
   "nbconvert_exporter": "python",
   "pygments_lexer": "ipython3",
   "version": "3.8.7"
  }
 },
 "nbformat": 4,
 "nbformat_minor": 5
}
